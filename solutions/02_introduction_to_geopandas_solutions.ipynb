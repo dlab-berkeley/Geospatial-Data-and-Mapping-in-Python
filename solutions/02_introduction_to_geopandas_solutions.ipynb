{
 "cells": [
  {
   "cell_type": "markdown",
   "metadata": {},
   "source": [
    "# Introduction to GeoPandas Solutions"
   ]
  },
  {
   "cell_type": "code",
   "execution_count": null,
   "metadata": {},
   "outputs": [],
   "source": [
    "import pandas as pd\n",
    "import geopandas as gpd\n",
    "\n",
    "import matplotlib\n",
    "import matplotlib.pyplot as plt\n",
    "\n",
    "%matplotlib inline  "
   ]
  },
  {
   "cell_type": "code",
   "execution_count": null,
   "metadata": {},
   "outputs": [],
   "source": [
    "# Read in the counties shapefile\n",
    "counties = gpd.read_file('../data/california_counties/CaliforniaCounties.shp')"
   ]
  },
  {
   "cell_type": "code",
   "execution_count": null,
   "metadata": {},
   "outputs": [],
   "source": [
    "alameda_county = counties.loc[counties['NAME'] == 'Alameda'].copy().reset_index(drop=True)"
   ]
  },
  {
   "cell_type": "markdown",
   "metadata": {},
   "source": [
    "---\n",
    "\n",
    "### Challenge 1\n",
    "\n",
    "What kind of geometry would a GeoDataFrame containing roads have? What about one that includes landmarks in the San Francisco Bay Area?\n",
    "\n",
    "---"
   ]
  },
  {
   "cell_type": "markdown",
   "metadata": {},
   "source": [
    "- A GeoDataFrame containing roads would likely contain lines.\n",
    "- A GeoDataFrame containing landmarks would likely contain points, if it were identifying the locations of the landmarks. However, it could also contain polygons if, say, it gave the boundaries of the landmarks."
   ]
  },
  {
   "cell_type": "markdown",
   "metadata": {},
   "source": [
    "---\n",
    "\n",
    "### Challenge 2: IO, Manipulation, and Mapping\n",
    "\n",
    "Now, you'll get a chance to practice the operations we learned above.\n",
    "\n",
    "In the following cell, compose code to:\n",
    "\n",
    "1. Read in the California places data (`../data/census/Places/cb_2018_06_place_500k.zip`).\n",
    "2. Subset \"Berkeley\" from the data.\n",
    "3. Plot, and customize as desired.\n",
    "4. Save out as a shapefile (`berkeley_places.shp`).\n",
    "\n",
    "*Note: pulling in a zipped shapefile has the same syntax as just pulling in a shapefile. The only difference is that insead of just putting in the filepath, you'll want to write `zip://../data/census/Places/cb_2018_06_place_500k.zip`*\n",
    "\n",
    "---"
   ]
  },
  {
   "cell_type": "code",
   "execution_count": null,
   "metadata": {},
   "outputs": [],
   "source": [
    "# Step 1: Read in the California places data\n",
    "california_places = gpd.read_file('zip://../data/census/Places/cb_2018_06_place_500k.zip')\n",
    "california_places.head()"
   ]
  },
  {
   "cell_type": "code",
   "execution_count": null,
   "metadata": {},
   "outputs": [],
   "source": [
    "# Step 2: Subset the data to Berkeley\n",
    "berkeley_places = california_places[california_places['NAME'] == 'Berkeley'].copy().reset_index(drop=True)\n",
    "berkeley_places.head()"
   ]
  },
  {
   "cell_type": "code",
   "execution_count": null,
   "metadata": {},
   "outputs": [],
   "source": [
    "# Step 3: Plot and customize\\n\",\n",
    "berkeley_places.plot(edgecolor='grey', color='lightgreen')"
   ]
  },
  {
   "cell_type": "code",
   "execution_count": null,
   "metadata": {},
   "outputs": [],
   "source": [
    "# Step 4: Save to a shapefile\n",
    "berkeley_places.to_file(\"berkeley_places.shp\")"
   ]
  }
 ],
 "metadata": {
  "kernelspec": {
   "display_name": "Python 3 (ipykernel)",
   "language": "python",
   "name": "python3"
  },
  "language_info": {
   "codemirror_mode": {
    "name": "ipython",
    "version": 3
   },
   "file_extension": ".py",
   "mimetype": "text/x-python",
   "name": "python",
   "nbconvert_exporter": "python",
   "pygments_lexer": "ipython3",
   "version": "3.8.12"
  }
 },
 "nbformat": 4,
 "nbformat_minor": 4
}
