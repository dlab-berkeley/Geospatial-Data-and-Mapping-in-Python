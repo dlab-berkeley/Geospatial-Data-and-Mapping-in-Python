{
 "cells": [
  {
   "cell_type": "markdown",
   "metadata": {},
   "source": [
    "# Coordinate Reference Systems (CRS) and Map Projections Solutions"
   ]
  },
  {
   "cell_type": "code",
   "execution_count": null,
   "metadata": {},
   "outputs": [],
   "source": [
    "import pandas as pd\n",
    "import geopandas as gpd\n",
    "\n",
    "import matplotlib\n",
    "import matplotlib.pyplot as plt\n",
    "\n",
    "%matplotlib inline  "
   ]
  },
  {
   "cell_type": "code",
   "execution_count": null,
   "metadata": {},
   "outputs": [],
   "source": [
    "counties = gpd.read_file('../data/california_counties/CaliforniaCounties.shp')\n",
    "states = gpd.read_file('../data/us_states/us_states.shp')"
   ]
  },
  {
   "cell_type": "code",
   "execution_count": null,
   "metadata": {},
   "outputs": [],
   "source": [
    "# Define list of non-contiguous states\n",
    "non_contiguous_us = ['American Samoa',\n",
    "                     'Puerto Rico',\n",
    "                     'Guam',\n",
    "                     'Commonwealth of the Northern Mariana Islands',\n",
    "                     'United States Virgin Islands',\n",
    "                     'Alaska',\n",
    "                     'Hawaii']\n",
    "# Subselect GeoDataFrame according to above list\n",
    "states_limited = states.loc[~states['STATE'].isin(non_contiguous_us)]"
   ]
  },
  {
   "cell_type": "markdown",
   "metadata": {},
   "source": [
    "---\n",
    "\n",
    "### Challenge 1: Reflecting on CRSs\n",
    "\n",
    "1. What two key differences do you see between the two plots above?\n",
    "2. Do either of these plotted USA maps look good?\n",
    "3. Try looking at the common CRS EPSG codes above and see if any of them look better for the whole country than what we have now. Then try transforming the states data to the CRS that you think would be best and plotting it. (Use the code cell two cells below.)\n",
    "\n",
    "---"
   ]
  },
  {
   "cell_type": "markdown",
   "metadata": {},
   "source": [
    "1. The UTM projection exhibits some curvature: it seems to be closer to the 3-D representation, relative to WGS 84 CRS.\n",
    "2. The first one looks a little warped, while the second one seems to have better proportions for each state. However, the second one is oriented differently than we typically expect US maps to be."
   ]
  },
  {
   "cell_type": "code",
   "execution_count": null,
   "metadata": {},
   "outputs": [],
   "source": [
    "# Let's use EPSG:5070, which is supposed to be good for CONUS\n",
    "states_limited_conus = states_limited.to_crs(\"epsg:5070\")\n",
    "states_limited_conus.plot()\n",
    "plt.axis('square')"
   ]
  },
  {
   "cell_type": "markdown",
   "metadata": {},
   "source": [
    "--- \n",
    "### Challenge 2: CRS Management\n",
    "\n",
    "Now it's time to take a crack and managing the CRS of a new dataset. In the code cell below, write code to:\n",
    "\n",
    "1. Bring in the CA places data (`../data/census/Places/cb_2018_06_place_500k.zip`)\n",
    "2. Check if the CRS is EPSG code 26910. If not, transform the CRS.\n",
    "3. Plot the California counties and places together.\n",
    "\n",
    "---"
   ]
  },
  {
   "cell_type": "code",
   "execution_count": null,
   "metadata": {},
   "outputs": [],
   "source": [
    "# 1. Bring in the CA places data\n",
    "california_places = gpd.read_file('zip://../data/census/Places/cb_2018_06_place_500k.zip')\n",
    "california_places.head()"
   ]
  },
  {
   "cell_type": "code",
   "execution_count": null,
   "metadata": {},
   "outputs": [],
   "source": [
    "# 2. Check and transform the CRS if needed\n",
    "california_places.crs"
   ]
  },
  {
   "cell_type": "code",
   "execution_count": null,
   "metadata": {},
   "outputs": [],
   "source": [
    "california_places_utm10 = california_places.to_crs(\"epsg:26910\")\n",
    "california_places_utm10.crs"
   ]
  },
  {
   "cell_type": "code",
   "execution_count": null,
   "metadata": {},
   "outputs": [],
   "source": [
    "counties_utm10 = counties.to_crs(\"epsg:26910\")"
   ]
  },
  {
   "cell_type": "code",
   "execution_count": null,
   "metadata": {
    "scrolled": true,
    "tags": []
   },
   "outputs": [],
   "source": [
    "# 3. Plot the California counties and places together\n",
    "fig, ax = plt.subplots(figsize=(10, 10))\n",
    "counties_utm10.plot(color='lightgrey', ax=ax)\n",
    "california_places_utm10.plot(color='purple', ax=ax)"
   ]
  }
 ],
 "metadata": {
  "kernelspec": {
   "display_name": "Python 3 (ipykernel)",
   "language": "python",
   "name": "python3"
  },
  "language_info": {
   "codemirror_mode": {
    "name": "ipython",
    "version": 3
   },
   "file_extension": ".py",
   "mimetype": "text/x-python",
   "name": "python",
   "nbconvert_exporter": "python",
   "pygments_lexer": "ipython3",
   "version": "3.8.12"
  }
 },
 "nbformat": 4,
 "nbformat_minor": 4
}
