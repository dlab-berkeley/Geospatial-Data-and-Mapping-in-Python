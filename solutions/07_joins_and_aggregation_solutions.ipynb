{
 "cells": [
  {
   "cell_type": "markdown",
   "metadata": {},
   "source": [
    "# Attribute and Spatial Joins Solutions"
   ]
  },
  {
   "cell_type": "code",
   "execution_count": null,
   "metadata": {},
   "outputs": [],
   "source": [
    "import pandas as pd\n",
    "import geopandas as gpd\n",
    "\n",
    "import matplotlib\n",
    "import matplotlib.pyplot as plt\n",
    "\n",
    "%matplotlib inline  "
   ]
  },
  {
   "cell_type": "code",
   "execution_count": null,
   "metadata": {},
   "outputs": [],
   "source": [
    "acs5_df = pd.read_csv(\"../data/census/ACS5yr/census_variables_CA.csv\", dtype={'FIPS_11_digit': str})\n",
    "acs5_df_ac = acs5_df[(acs5_df['year'] == 2018) & (acs5_df['county_fips'] == 1)]"
   ]
  },
  {
   "cell_type": "code",
   "execution_count": null,
   "metadata": {},
   "outputs": [],
   "source": [
    "tracts_gdf = gpd.read_file(\"zip://../data/census/Tracts/cb_2013_06_tract_500k.zip\")\n",
    "tracts_gdf_ac = tracts_gdf[tracts_gdf['COUNTYFP'] == '001']"
   ]
  },
  {
   "cell_type": "code",
   "execution_count": null,
   "metadata": {},
   "outputs": [],
   "source": [
    "tracts_acs_gdf_ac = tracts_gdf_ac.merge(acs5_df_ac,\n",
    "                                        left_on='GEOID',\n",
    "                                        right_on='FIPS_11_digit',\n",
    "                                        how='left')"
   ]
  },
  {
   "cell_type": "code",
   "execution_count": null,
   "metadata": {},
   "outputs": [],
   "source": [
    "# Import schools data\n",
    "schools_df = pd.read_csv('../data/alco_schools.csv')\n",
    "# Convert to GeoDataFrame\n",
    "schools_gdf = gpd.GeoDataFrame(schools_df, \n",
    "                               geometry=gpd.points_from_xy(schools_df.X, schools_df.Y))\n",
    "# Convert CRS\n",
    "schools_gdf.crs = \"epsg:4326\"\n",
    "schools_gdf = schools_gdf.to_crs(tracts_acs_gdf_ac.crs)"
   ]
  },
  {
   "cell_type": "markdown",
   "metadata": {},
   "source": [
    "---\n",
    "\n",
    "### Challenge 1: Choropleth Map\n",
    "\n",
    "We can now make choropleth maps using our attribute-joined GeoDataFrame. Go ahead and pick one variable to color the map, then map it. You can go back to lesson 5 if you need a refresher on how to make this!\n",
    "\n",
    "---"
   ]
  },
  {
   "cell_type": "code",
   "execution_count": null,
   "metadata": {},
   "outputs": [],
   "source": [
    "fig, ax = plt.subplots(figsize=(10, 5)) \n",
    "tracts_acs_gdf_ac.plot(column='p_renters', \n",
    "                       scheme=\"quantiles\",\n",
    "                       legend=True,\n",
    "                       ax=ax,\n",
    "                       cmap='magma')\n",
    "ax.set_title(\"Percentage of Renters\")\n",
    "plt.show()"
   ]
  },
  {
   "cell_type": "markdown",
   "metadata": {},
   "source": [
    "---\n",
    "\n",
    "### Challenge 2: Confidence Checks\n",
    "\n",
    "As always, we want to perform a confidence check on our intermediate result before we rush ahead.\n",
    "\n",
    "One way to do that is to introspect the structure of the result object a bit.\n",
    "\n",
    "1. What type of object should that have given us?\n",
    "2. What should the dimensions of that object be, and why?\n",
    "3. If we wanted a visual check of our results (i.e. a plot or map), what could we do?\n",
    "\n",
    "---"
   ]
  },
  {
   "cell_type": "code",
   "execution_count": null,
   "metadata": {},
   "outputs": [],
   "source": [
    "schools_gdf_api = schools_gdf[schools_gdf['API'] > 0]"
   ]
  },
  {
   "cell_type": "code",
   "execution_count": null,
   "metadata": {},
   "outputs": [],
   "source": [
    "schools_jointracts = gpd.sjoin(left_df=schools_gdf_api,\n",
    "                               right_df=tracts_acs_gdf_ac,\n",
    "                               how='left')"
   ]
  },
  {
   "cell_type": "code",
   "execution_count": null,
   "metadata": {},
   "outputs": [],
   "source": [
    "type(schools_jointracts)"
   ]
  },
  {
   "cell_type": "code",
   "execution_count": null,
   "metadata": {},
   "outputs": [],
   "source": [
    "print(schools_gdf.shape)\n",
    "print(tracts_acs_gdf_ac.shape)\n",
    "print(schools_jointracts.shape)"
   ]
  },
  {
   "cell_type": "code",
   "execution_count": null,
   "metadata": {},
   "outputs": [],
   "source": [
    "schools_jointracts.plot()"
   ]
  },
  {
   "cell_type": "code",
   "execution_count": null,
   "metadata": {},
   "outputs": [],
   "source": [
    "ax = tracts_acs_gdf_ac.plot(color='white',\n",
    "                            edgecolor='black',\n",
    "                            figsize=(18, 18))\n",
    "schools_jointracts.iloc[:16].plot(column='GEOID', ax=ax, legend=True)"
   ]
  },
  {
   "cell_type": "markdown",
   "metadata": {},
   "source": [
    "---\n",
    "\n",
    "### Challenge 3: Aggregation\n",
    "\n",
    "What is the mean API of each Census tract?\n",
    "\n",
    "As we mentioned, the spatial aggregation workflow that we just put together above could have been used not to generate a new count variable, but also to generate any other new variable the results from calling an aggregation function on an attribute column.\n",
    "\n",
    "In this case, we want to calculate and map the mean API of the schools in each Census tract.\n",
    "\n",
    "Copy and paste code from above where useful, then tweak and/or add to that code. Do the following:\n",
    "\n",
    "1. Join the schools onto the tracts (**HINT**: make sure to decide whether or not you want to include schools with API = 0!).\n",
    "2. Dissolves that joined object by the tract IDs, giving you a new GeoDataFrame with each tract's mean API (**HINT**: because this is now a different calculation, different problems may arise and need handling!).\n",
    "3. Plot the tracts, colored by API scores (**HINT**: overlay the schools points again, visualizing them in a way that will help you visually check your results!).\n",
    "\n",
    "---"
   ]
  },
  {
   "cell_type": "code",
   "execution_count": null,
   "metadata": {},
   "outputs": [],
   "source": [
    "# Join the schools onto the tracts (excluding 0 API schools)\n",
    "tracts_joinschools_api = gpd.sjoin(left_df=schools_gdf_api,\n",
    "                                   right_df=tracts_acs_gdf_ac,\n",
    "                                   how='right')"
   ]
  },
  {
   "cell_type": "code",
   "execution_count": null,
   "metadata": {},
   "outputs": [],
   "source": [
    "# Dissolve the tracts by GEOID, using 'API' as the column we'll aggregate and 'mean' as our aggfunc\n",
    "tracts_mean_api = tracts_joinschools_api[['GEOID', 'API', 'geometry']].dropna(how='any').dissolve(by='GEOID', aggfunc='mean')"
   ]
  },
  {
   "cell_type": "code",
   "execution_count": null,
   "metadata": {},
   "outputs": [],
   "source": [
    "# Plot the tracts, coloring them by mean API\n",
    "fig, ax = plt.subplots(figsize = (20, 20)) \n",
    "tracts_mean_api.plot(ax=ax,\n",
    "                     column='API', \n",
    "                     scheme='equalinterval',\n",
    "                     cmap=\"plasma\",\n",
    "                     edgecolor=\"grey\",\n",
    "                     legend=True,\n",
    "                     legend_kwds={'title': 'Mean API'})\n",
    "# Add the schools, coloring them by API (so we can check that the mean APIs we calculated are resonable)\n",
    "schools_gdf_api.plot(ax=ax,\n",
    "                     column='API',\n",
    "                     cmap='plasma',\n",
    "                     edgecolor='black',\n",
    "                     linewidth=0.3,\n",
    "                     markersize=25,\n",
    "                     legend=True,\n",
    "                     legend_kwds={'label': \"API (schools)\",\n",
    "                                  'orientation': \"horizontal\",\n",
    "                                  'location': 'bottom',\n",
    "                                  'shrink': 0.75,\n",
    "                                  'pad': 0.05})"
   ]
  }
 ],
 "metadata": {
  "kernelspec": {
   "display_name": "Python 3 (ipykernel)",
   "language": "python",
   "name": "python3"
  },
  "language_info": {
   "codemirror_mode": {
    "name": "ipython",
    "version": 3
   },
   "file_extension": ".py",
   "mimetype": "text/x-python",
   "name": "python",
   "nbconvert_exporter": "python",
   "pygments_lexer": "ipython3",
   "version": "3.8.12"
  }
 },
 "nbformat": 4,
 "nbformat_minor": 4
}
