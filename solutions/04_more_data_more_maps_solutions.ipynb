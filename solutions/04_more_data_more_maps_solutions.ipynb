{
 "cells": [
  {
   "cell_type": "markdown",
   "metadata": {},
   "source": [
    "# More Data, More Maps Solutions"
   ]
  },
  {
   "cell_type": "code",
   "execution_count": null,
   "metadata": {},
   "outputs": [],
   "source": [
    "import pandas as pd\n",
    "import geopandas as gpd\n",
    "\n",
    "import matplotlib\n",
    "import matplotlib.pyplot as plt\n",
    "\n",
    "%matplotlib inline  "
   ]
  },
  {
   "cell_type": "code",
   "execution_count": null,
   "metadata": {},
   "outputs": [],
   "source": [
    "bike_blvds = gpd.read_file('../data/transportation/BerkeleyBikeBlvds.geojson')\n",
    "bike_blvds_utm10 = bike_blvds.to_crs(\"epsg:26910\")\n",
    "\n",
    "schools_df = pd.read_csv('../data/alco_schools.csv')\n",
    "schools_gdf = gpd.GeoDataFrame(data=schools_df, \n",
    "                               geometry=gpd.points_from_xy(schools_df.X, schools_df.Y))\n",
    "schools_gdf_utm10 = schools_gdf.to_crs(\"epsg:26910\")\n"
   ]
  },
  {
   "cell_type": "markdown",
   "metadata": {},
   "source": [
    "---\n",
    "\n",
    "### Challenge 1: \n",
    "\n",
    "The GeoDataFrame has 211 samples, indicating 211 lines. However, when we plot the GeoDataFrame, we only see 8 bike boulevards. How do we explain the discrepancy?\n",
    "\n",
    "You may find it helpful to look closely at the GeoDataFrame, or even plot subsets of it. You could even plot the entire GeoDataFrame, and then plot a subset of it on top of the original plot, but with a different color.\n",
    "\n",
    "---"
   ]
  },
  {
   "cell_type": "code",
   "execution_count": null,
   "metadata": {},
   "outputs": [],
   "source": [
    "bike_blvds_utm10.head(50)"
   ]
  },
  {
   "cell_type": "code",
   "execution_count": null,
   "metadata": {},
   "outputs": [],
   "source": [
    "# We'll plot individual street names separately, with different colors\n",
    "fig, ax = plt.subplots(1, 1, figsize=(10, 10))\n",
    "bike_blvds_utm10.plot(ax=ax)\n",
    "bike_blvds_utm10.iloc[:3].plot(color='orange', ax=ax)\n",
    "bike_blvds_utm10.iloc[3:4].plot(color='red', ax=ax)\n",
    "bike_blvds_utm10.iloc[5:43].plot(color='brown', ax=ax)"
   ]
  },
  {
   "cell_type": "markdown",
   "metadata": {},
   "source": [
    "So, we can see that a single \"bike boulevard\" is actually composed of different streets. Furthermore, the individual samples are broken down across blocks. So, the one bicycle boulevard we're highlighting above is broken down block-by-block in the samples of the GeoDataFrame."
   ]
  },
  {
   "cell_type": "markdown",
   "metadata": {},
   "source": [
    "---\n",
    "\n",
    "### Challenge 2: Even More Data!\n",
    "\n",
    "Let's play around with another GeoDataFrame with point geometry.\n",
    "\n",
    "In the code cell provided below, compose code to:\n",
    "\n",
    "1. Read in the parcel points data (`../data/parcels/parcel_pts_rand30pct.geojson`).\n",
    "2. Transform the CRS to EPSG:26910.\n",
    "3. Plot and customize as desired!\n",
    "\n",
    "---"
   ]
  },
  {
   "cell_type": "code",
   "execution_count": null,
   "metadata": {},
   "outputs": [],
   "source": [
    "# 1. Read in the parcel points data\n",
    "parcel_pts_gdf = gpd.read_file('../data/parcels/parcel_pts_rand30pct.geojson')\n",
    "parcel_pts_gdf.head()"
   ]
  },
  {
   "cell_type": "code",
   "execution_count": null,
   "metadata": {},
   "outputs": [],
   "source": [
    "# Take a look at existing CRS\n",
    "parcel_pts_gdf.crs"
   ]
  },
  {
   "cell_type": "code",
   "execution_count": null,
   "metadata": {},
   "outputs": [],
   "source": [
    "# 2. Transform the CRS to EPSG:26910.\n",
    "parcel_pts_gdf_utm10 = parcel_pts_gdf.to_crs(\"epsg:26910\")"
   ]
  },
  {
   "cell_type": "code",
   "execution_count": null,
   "metadata": {},
   "outputs": [],
   "source": [
    "# 3. Plot and customize!\n",
    "parcel_pts_gdf.plot(markersize=5,\n",
    "                    color='violet',\n",
    "                    edgecolor='black',\n",
    "                    linewidth=0.5,\n",
    "                    alpha=0.3,\n",
    "                    figsize=(6, 6))"
   ]
  },
  {
   "cell_type": "code",
   "execution_count": null,
   "metadata": {},
   "outputs": [],
   "source": [
    "parcel_pts_gdf_utm10.plot(markersize=5,\n",
    "                          color='limegreen',\n",
    "                          edgecolor='black',\n",
    "                          linewidth=0.5,\n",
    "                          alpha=0.3,\n",
    "                          figsize=(6, 6))"
   ]
  },
  {
   "cell_type": "markdown",
   "metadata": {},
   "source": [
    "---\n",
    "\n",
    "### Challenge 3: Overlay Mapping\n",
    "\n",
    "Let's take some time to practice reading in and reconciling new datasets, then mapping them together.\n",
    "\n",
    "In the code cell provided below, write code to:\n",
    "\n",
    "1. Import your Berkeley places shapefile (and don't forget to check/transform the crs!) (`../data/berkeley/BerkeleyCityLimits.shp`).\n",
    "2. Overlay the parcel points on top of the bike boulevards.\n",
    "3. Create the same plot but limit it to the extent of Berkeley city limits.\n",
    "\n",
    "***BONUS***: Add the Berkeley outline to your last plot!\n",
    "\n",
    "---"
   ]
  },
  {
   "cell_type": "code",
   "execution_count": null,
   "metadata": {},
   "outputs": [],
   "source": [
    "# 1. Import your Berkeley places shapefile\n",
    "berkeley_places = gpd.read_file(\"../data/berkeley/BerkeleyCityLimits.shp\")"
   ]
  },
  {
   "cell_type": "code",
   "execution_count": null,
   "metadata": {},
   "outputs": [],
   "source": [
    "print(berkeley_places.crs)\n",
    "berkeley_places_utm10 = berkeley_places.to_crs(\"epsg:26910\")\n",
    "print(berkeley_places_utm10.crs)"
   ]
  },
  {
   "cell_type": "code",
   "execution_count": null,
   "metadata": {},
   "outputs": [],
   "source": [
    "# 2. Overlay the parcel points on top of the bike boulevards\n",
    "fig, ax = plt.subplots(figsize=(10, 10))\n",
    "bike_blvds_utm10.plot(ax=ax, color='black')\n",
    "parcel_pts_gdf_utm10.plot(ax=ax, color='orange', markersize=5)"
   ]
  },
  {
   "cell_type": "code",
   "execution_count": null,
   "metadata": {},
   "outputs": [],
   "source": [
    "# 3. Create the same plot but limit it to the extent of Berkeley city limits\n",
    "# Obtain bounds\n",
    "x_min, y_min, x_max, y_max = berkeley_places_utm10.total_bounds\n",
    "# Create figures\n",
    "fig, ax = plt.subplots(figsize=(10, 10))\n",
    "# Plot geometries\n",
    "bike_blvds_utm10.plot(ax=ax, color='black')\n",
    "parcel_pts_gdf_utm10.plot(ax=ax, color='orange', markersize=5)\n",
    "# Set bounds\n",
    "ax.set_xlim(x_min, x_max)\n",
    "ax.set_ylim(y_min, y_max)"
   ]
  },
  {
   "cell_type": "code",
   "execution_count": null,
   "metadata": {},
   "outputs": [],
   "source": [
    "# BONUS: Add the Berkeley outline to your last plot\n",
    "fig, ax = plt.subplots(figsize=(10, 10))\n",
    "# Add on Berkeley city bounds as the bottom layer\n",
    "berkeley_places_utm10.plot(ax=ax, color='grey')\n",
    "bike_blvds_utm10.plot(ax=ax, color='black')\n",
    "parcel_pts_gdf_utm10.plot(ax=ax, color='orange', markersize=5)\n",
    "ax.set_xlim(x_min, x_max)\n",
    "ax.set_ylim(y_min, y_max)"
   ]
  }
 ],
 "metadata": {
  "kernelspec": {
   "display_name": "Python 3 (ipykernel)",
   "language": "python",
   "name": "python3"
  },
  "language_info": {
   "codemirror_mode": {
    "name": "ipython",
    "version": 3
   },
   "file_extension": ".py",
   "mimetype": "text/x-python",
   "name": "python",
   "nbconvert_exporter": "python",
   "pygments_lexer": "ipython3",
   "version": "3.8.12"
  }
 },
 "nbformat": 4,
 "nbformat_minor": 4
}
