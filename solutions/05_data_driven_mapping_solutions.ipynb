{
 "cells": [
  {
   "cell_type": "markdown",
   "metadata": {},
   "source": [
    "# Data-driven Mapping"
   ]
  },
  {
   "cell_type": "code",
   "execution_count": null,
   "metadata": {},
   "outputs": [],
   "source": [
    "import pandas as pd\n",
    "import geopandas as gpd\n",
    "\n",
    "import matplotlib\n",
    "import matplotlib.pyplot as plt\n",
    "\n",
    "%matplotlib inline  "
   ]
  },
  {
   "cell_type": "code",
   "execution_count": null,
   "metadata": {},
   "outputs": [],
   "source": [
    "counties = gpd.read_file('../data/california_counties/CaliforniaCounties.shp')"
   ]
  },
  {
   "cell_type": "markdown",
   "metadata": {},
   "source": [
    "---\n",
    "\n",
    "### Challenge 1: Plotting Different Columns\n",
    "\n",
    "Why are we plotting `POP12_SQMI` instead of `POP2012`? What do each of the two columns tell us?\n",
    "\n",
    "Try plotting `POP2012`, instead. What does this look like?\n",
    "\n",
    "---"
   ]
  },
  {
   "cell_type": "markdown",
   "metadata": {},
   "source": [
    "Plotting population per square meter conveys density. When we plot total population, Los Angeles and the surrounding areas tend to dominate the plot."
   ]
  },
  {
   "cell_type": "code",
   "execution_count": null,
   "metadata": {},
   "outputs": [],
   "source": [
    "counties.plot(column='POP2012',\n",
    "              figsize=(10, 10),\n",
    "              legend=True,\n",
    "              legend_kwds={'label': \"Population\",\n",
    "                           'orientation': \"horizontal\"})"
   ]
  },
  {
   "cell_type": "markdown",
   "metadata": {},
   "source": [
    "### Classification Schemes and GeoDataFrames\n",
    "\n",
    "Classification schemes can be implemented using the geodataframe `plot` method by setting a value for the **scheme** argument. This requires the [pysal](https://pysal.org/) and [mapclassify](https://pysal.org/mapclassify) libraries to be installed in your Python environment. \n",
    "\n",
    "Here is a list of the `classification schemes` names that we will use:\n",
    "\n",
    "- `equalinterval`\n",
    "- `quantiles`\n",
    "- `fisherjenks`\n",
    "- `naturalbreaks`\n",
    "- `userdefined`.\n",
    "\n",
    "For more information about these classification schemes, see the [pysal mapclassifiers web page](https://pysal.org/mapclassify/api.html) or check out the help docs.\n",
    "\n",
    "Let's redo the last map using the `quantile` classification scheme."
   ]
  },
  {
   "cell_type": "code",
   "execution_count": null,
   "metadata": {},
   "outputs": [],
   "source": [
    "# Plot population density\n",
    "fig, ax = plt.subplots(figsize=(10, 5)) \n",
    "counties.plot(column='POP12_SQMI', \n",
    "              scheme=\"quantiles\",\n",
    "              legend=True,\n",
    "              ax=ax)\n",
    "ax.set_title(\"Population Density per Square Mile\")"
   ]
  },
  {
   "cell_type": "markdown",
   "metadata": {},
   "source": [
    "What is different about the code? About the output map?"
   ]
  },
  {
   "cell_type": "markdown",
   "metadata": {},
   "source": [
    "---\n",
    "\n",
    "### Challenge 2: Reflecting on Chloropleth Maps\n",
    "\n",
    "1. What new options and operations have we added to our code?\n",
    "2. Based on our code, what title would you give this plot to describe what it displays?\n",
    "3. How many bins do we specify in the `legend_labels_list` object, and how many bins are in the map legend? Why?\n",
    "\n",
    "---"
   ]
  },
  {
   "cell_type": "markdown",
   "metadata": {},
   "source": [
    "1. We added an edge color as well as a line width specification.\n",
    "2. \"Californians Identifying as Hispanic Largely Live in Southern California\"\n",
    "3. We specified 5 bins, but only 4 are shown in the legend. This is because there are no counties that are 80% - 100% Hispanic."
   ]
  },
  {
   "cell_type": "markdown",
   "metadata": {},
   "source": [
    "---\n",
    "\n",
    "### Challenge 3: Data-Driven Mapping\n",
    "\n",
    "Point and polygons are not the only geometry-types that we can use in data-driven mapping!\n",
    "\n",
    "Run the next cell to load a dataset containing Berkeley's bicycle boulevards (which we'll be using more in the following notebook).\n",
    "\n",
    "Then, in the following cell, write your own code to:\n",
    "\n",
    "1. Plot the bike boulevards;\n",
    "2. Color them by status (find the correct column in the head of the dataframe, displayed below);\n",
    "3. Color them using a fitting, good-looking qualitative colormap that you choose from [The Matplotlib Colormap Reference](https://matplotlib.org/3.1.1/gallery/color/colormap_reference.html);\n",
    "4. Set the line width to 5 (check the plot method's documentation to find the right argument for this!);\n",
    "4. Add the argument `figsize=(15, 15)`, to make your map nice and big and visible!\n",
    "    \n",
    "Using this map, answer the following questions:\n",
    "\n",
    "1. What does that map indicate about the status of the Berkeley bike boulevards?\n",
    "2. What does that map indicate about the status of your Berkeley bike-boulevard *dataset*?\n",
    "\n",
    "---"
   ]
  },
  {
   "cell_type": "code",
   "execution_count": null,
   "metadata": {},
   "outputs": [],
   "source": [
    "bike_blvds = gpd.read_file('../data/transportation/BerkeleyBikeBlvds.geojson')\n",
    "bike_blvds.head()"
   ]
  },
  {
   "cell_type": "code",
   "execution_count": null,
   "metadata": {},
   "outputs": [],
   "source": [
    "bike_blvds.plot(column='Status',\n",
    "                cmap='Dark2',\n",
    "                linewidth=5,\n",
    "                legend=True,\n",
    "                figsize=(15, 15))"
   ]
  },
  {
   "cell_type": "markdown",
   "metadata": {},
   "source": [
    "All bike boulevards exist, but it seems like there are some typos in our DataFrame!"
   ]
  }
 ],
 "metadata": {
  "kernelspec": {
   "display_name": "Python 3 (ipykernel)",
   "language": "python",
   "name": "python3"
  },
  "language_info": {
   "codemirror_mode": {
    "name": "ipython",
    "version": 3
   },
   "file_extension": ".py",
   "mimetype": "text/x-python",
   "name": "python",
   "nbconvert_exporter": "python",
   "pygments_lexer": "ipython3",
   "version": "3.8.12"
  }
 },
 "nbformat": 4,
 "nbformat_minor": 4
}
