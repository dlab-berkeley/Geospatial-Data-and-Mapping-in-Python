{
 "cells": [
  {
   "cell_type": "markdown",
   "metadata": {},
   "source": [
    "# More Data, More Maps!\n",
    "\n",
    "Now that we know how to pull in data, check and transform Coordinate Reference Systems (CRS), and plot GeoDataFrames together, let's practice doing the same thing with other geometry types. In this notebook we'll be bringing in maps of bike boulevards and schools, which will prime us to think about spatial relationship questions.\n",
    "\n",
    "\n",
    "<!---\n",
    "- Expected time to complete\n",
    "    - Lecture + Questions: 30 minutes\n",
    "    - Exercises: 20 minutes\n",
    "-->"
   ]
  },
  {
   "cell_type": "code",
   "execution_count": null,
   "metadata": {},
   "outputs": [],
   "source": [
    "import pandas as pd\n",
    "import geopandas as gpd\n",
    "\n",
    "import matplotlib\n",
    "import matplotlib.pyplot as plt\n",
    "\n",
    "%matplotlib inline  "
   ]
  },
  {
   "cell_type": "markdown",
   "metadata": {},
   "source": [
    "## Berkeley Bike Boulevards\n",
    "\n",
    "We're going to bring in data bike boulevards in Berkeley. Note two things that are different from our previous data:\n",
    "\n",
    "- We're importing a [GeoJSON](https://en.wikipedia.org/wiki/GeoJSON) this time, and not a shapefile.\n",
    "- We have a **line** geometry GeoDataFrame, while our county and states data had **polygon** geometries."
   ]
  },
  {
   "cell_type": "code",
   "execution_count": null,
   "metadata": {},
   "outputs": [],
   "source": [
    "bike_blvds = gpd.read_file('../data/transportation/BerkeleyBikeBlvds.geojson')\n",
    "bike_blvds.plot()"
   ]
  },
  {
   "cell_type": "markdown",
   "metadata": {},
   "source": [
    "As usual, we'll want to do our typical data exploration..."
   ]
  },
  {
   "cell_type": "code",
   "execution_count": null,
   "metadata": {},
   "outputs": [],
   "source": [
    "bike_blvds.head()"
   ]
  },
  {
   "cell_type": "code",
   "execution_count": null,
   "metadata": {},
   "outputs": [],
   "source": [
    "bike_blvds.shape"
   ]
  },
  {
   "cell_type": "code",
   "execution_count": null,
   "metadata": {},
   "outputs": [],
   "source": [
    "bike_blvds.columns"
   ]
  },
  {
   "cell_type": "markdown",
   "metadata": {},
   "source": [
    "Our bike boulevard data includes the following information:\n",
    "\n",
    "- `BB_STRNAM`: Bike boulevard street name\n",
    "- `BB_STRID`: Bike boulevard street ID\n",
    "- `BB_FRO`: Bike boulevard origin street\n",
    "- `BB_TO`: Bike boulevard end street\n",
    "- `BB_SECID`: Bike boulevard section id\n",
    "- `DIR_`: Cardinal directions the bike boulevard runs\n",
    "- `Status`: Status on whether the bike boulevard exists\n",
    "- `ALT_bikeCA`: Unclear what this column indicates\n",
    "- `Shape_len`: Length of the boulevard in meters \n",
    "- `len_km`: Length of the boulevard in kilometers\n",
    "- `geometry`: Our standard geometry column for GeoDataFrames"
   ]
  },
  {
   "cell_type": "markdown",
   "metadata": {},
   "source": [
    "Let's go ahead and check out the CRS that comes with the GeoDataFrame:"
   ]
  },
  {
   "cell_type": "code",
   "execution_count": null,
   "metadata": {},
   "outputs": [],
   "source": [
    "bike_blvds.crs"
   ]
  },
  {
   "cell_type": "markdown",
   "metadata": {},
   "source": [
    "Let's tranform our CRS to NAD83 / UTM Zone 10N that we used in the last lesson."
   ]
  },
  {
   "cell_type": "code",
   "execution_count": null,
   "metadata": {},
   "outputs": [],
   "source": [
    "bike_blvds_utm10 = bike_blvds.to_crs(\"epsg:26910\")"
   ]
  },
  {
   "cell_type": "code",
   "execution_count": null,
   "metadata": {},
   "outputs": [],
   "source": [
    "bike_blvds_utm10.head()"
   ]
  },
  {
   "cell_type": "code",
   "execution_count": null,
   "metadata": {},
   "outputs": [],
   "source": [
    "bike_blvds_utm10.crs"
   ]
  },
  {
   "cell_type": "markdown",
   "metadata": {},
   "source": [
    "---\n",
    "\n",
    "### Challenge 1: \n",
    "\n",
    "The GeoDataFrame has 211 samples, indicating 211 lines. However, when we plot the GeoDataFrame, we only see 8 bike boulevards. How do we explain the discrepancy?\n",
    "\n",
    "You may find it helpful to look closely at the GeoDataFrame, or even plot subsets of it. You could even plot the entire GeoDataFrame, and then plot a subset of it on top of the original plot, but with a different color.\n",
    "\n",
    "---"
   ]
  },
  {
   "cell_type": "code",
   "execution_count": null,
   "metadata": {},
   "outputs": [],
   "source": [
    "# YOUR CODE HERE\n"
   ]
  },
  {
   "cell_type": "markdown",
   "metadata": {},
   "source": [
    "## Alameda County Schools\n",
    "\n",
    "Alright! Now that we have our bike boulevard data squared away, we're going to bring in our Alameda County school data."
   ]
  },
  {
   "cell_type": "code",
   "execution_count": null,
   "metadata": {},
   "outputs": [],
   "source": [
    "schools_df = pd.read_csv('../data/alco_schools.csv')\n",
    "schools_df.head()"
   ]
  },
  {
   "cell_type": "code",
   "execution_count": null,
   "metadata": {},
   "outputs": [],
   "source": [
    "schools_df.shape"
   ]
  },
  {
   "cell_type": "markdown",
   "metadata": {},
   "source": [
    "Wait, does this look right? Always be sure to check the data that you import. Is it what you expect?\n",
    "\n",
    "This is not a GeoDataFrame! A couple of clues to figure that out are..\n",
    "\n",
    "1. We're pulling in a Comma Separated Value (CSV) file, which is not a geospatial data format.\n",
    "2. There is no geometry column (although we do have latitude and longitude values)\n",
    "\n",
    "Although our school data is not starting off as a GeoDataFrame, we actually have the tools and information to make it one. Using the `gpd.GeoDataFrame` constructor, we can transform our plain DataFrame into a GeoDataFrame (specifying the geometry information and then the CRS)."
   ]
  },
  {
   "cell_type": "code",
   "execution_count": null,
   "metadata": {},
   "outputs": [],
   "source": [
    "schools_gdf = gpd.GeoDataFrame(data=schools_df, \n",
    "                               geometry=gpd.points_from_xy(schools_df.X, schools_df.Y))"
   ]
  },
  {
   "cell_type": "code",
   "execution_count": null,
   "metadata": {},
   "outputs": [],
   "source": [
    "schools_gdf.head()"
   ]
  },
  {
   "cell_type": "code",
   "execution_count": null,
   "metadata": {},
   "outputs": [],
   "source": [
    "print(schools_gdf.crs)"
   ]
  },
  {
   "cell_type": "code",
   "execution_count": null,
   "metadata": {},
   "outputs": [],
   "source": [
    "# Assign a CRS\n",
    "schools_gdf.crs = \"epsg:4326\"\n",
    "schools_gdf.head()"
   ]
  },
  {
   "cell_type": "markdown",
   "metadata": {},
   "source": [
    "You'll notice that the shape is the same from what we had as a dataframe, just with the added `geometry` column."
   ]
  },
  {
   "cell_type": "code",
   "execution_count": null,
   "metadata": {
    "scrolled": true
   },
   "outputs": [],
   "source": [
    "schools_gdf.shape"
   ]
  },
  {
   "cell_type": "markdown",
   "metadata": {},
   "source": [
    "And with it being a GeoDataFrame, we can plot it as we did for our other data sets.\n",
    "Notice that we have our first **point** geometry GeoDataFrame."
   ]
  },
  {
   "cell_type": "code",
   "execution_count": null,
   "metadata": {},
   "outputs": [],
   "source": [
    "schools_gdf.plot()"
   ]
  },
  {
   "cell_type": "markdown",
   "metadata": {},
   "source": [
    "We'll want to transform the CRS, so that we can later plot it with our bike boulevard data:"
   ]
  },
  {
   "cell_type": "code",
   "execution_count": null,
   "metadata": {},
   "outputs": [],
   "source": [
    "schools_gdf_utm10 = schools_gdf.to_crs(\"epsg:26910\")\n",
    "schools_gdf_utm10.plot()"
   ]
  },
  {
   "cell_type": "markdown",
   "metadata": {},
   "source": [
    "In Lesson 2, we discussed that you can save out GeoDataFrames in multiple file formats. You could opt for a GeoJSON, a shapefile, etc. For point data sets, we have the additional option to save it out as a CSV since the geometry isn't complicated."
   ]
  },
  {
   "cell_type": "markdown",
   "metadata": {},
   "source": [
    "---\n",
    "\n",
    "### Challenge 2: Even More Data!\n",
    "\n",
    "Let's play around with another GeoDataFrame with point geometry.\n",
    "\n",
    "In the code cell provided below, compose code to:\n",
    "\n",
    "1. Read in the parcel points data (`../data/parcels/parcel_pts_rand30pct.geojson`).\n",
    "2. Transform the CRS to EPSG:26910.\n",
    "3. Plot and customize as desired!\n",
    "\n",
    "---"
   ]
  },
  {
   "cell_type": "code",
   "execution_count": null,
   "metadata": {},
   "outputs": [],
   "source": [
    "# YOUR CODE HERE\n"
   ]
  },
  {
   "cell_type": "markdown",
   "metadata": {},
   "source": [
    "## Map Overlays with Matplotlib\n",
    "\n",
    "No matter what geometry type we have for our GeoDataFrame, we can create overlay plots.\n",
    "\n",
    "Since we've already done the legwork of transforming our CRS, we can go ahead and plot them together."
   ]
  },
  {
   "cell_type": "code",
   "execution_count": null,
   "metadata": {},
   "outputs": [],
   "source": [
    "fig, ax = plt.subplots(figsize=(10, 10))\n",
    "bike_blvds_utm10.plot(ax=ax, color='red')\n",
    "schools_gdf_utm10.plot(ax=ax)"
   ]
  },
  {
   "cell_type": "markdown",
   "metadata": {},
   "source": [
    "If we want to answer questions like *\"What schools are close to bike boulevards in Berkeley?\"*, the above plot isn't super helpful, since the extent covers all of Alameda county.\n",
    "\n",
    "Luckily, GeoDataFrames have an easy method to extract the minimium and maximum values for both x and y, so we can use that information to set the bounds for our plot."
   ]
  },
  {
   "cell_type": "code",
   "execution_count": null,
   "metadata": {},
   "outputs": [],
   "source": [
    "x_min, y_min, x_max, y_max = bike_blvds.total_bounds\n",
    "print(x_min, y_min, x_max, y_max)"
   ]
  },
  {
   "cell_type": "markdown",
   "metadata": {},
   "source": [
    "Using `set_xlim()` and `set_ylim()`, we can zoom in to see if there are schools proximal to the bike boulevards."
   ]
  },
  {
   "cell_type": "code",
   "execution_count": null,
   "metadata": {},
   "outputs": [],
   "source": [
    "# Create figure and axis objects\n",
    "fig, ax = plt.subplots(figsize=(10, 10))\n",
    "# Plot geometries\n",
    "bike_blvds_utm10.plot(ax=ax, color='red')\n",
    "schools_gdf_utm10.plot(ax=ax)\n",
    "# Set bounds\n",
    "ax.set_xlim(x_min, x_max)\n",
    "ax.set_ylim(y_min, y_max)"
   ]
  },
  {
   "cell_type": "markdown",
   "metadata": {},
   "source": [
    "## Overview\n",
    "\n",
    "In this lesson, we learned a several new skills:\n",
    "- We Transformed an a-spatial dataframe into a geospatial one.\n",
    "    - `gpd.GeoDataFrame`\n",
    "- We worked with point and line GeoDataFrames.\n",
    "- We overlayed point and line GeoDataFrames.\n",
    "- We limited the extent of a map.\n",
    "    - `total_bounds`"
   ]
  },
  {
   "cell_type": "markdown",
   "metadata": {},
   "source": [
    "---\n",
    "\n",
    "### Challenge 3: Overlay Mapping\n",
    "\n",
    "Let's take some time to practice reading in and reconciling new datasets, then mapping them together.\n",
    "\n",
    "In the code cell provided below, write code to:\n",
    "\n",
    "1. Import your Berkeley places shapefile (and don't forget to check/transform the crs!) (`../data/berkeley/BerkeleyCityLimits.shp`).\n",
    "2. Overlay the parcel points on top of the bike boulevards.\n",
    "3. Create the same plot but limit it to the extent of Berkeley city limits.\n",
    "\n",
    "***BONUS***: Add the Berkeley outline to your last plot!\n",
    "\n",
    "---"
   ]
  },
  {
   "cell_type": "code",
   "execution_count": null,
   "metadata": {
    "scrolled": true
   },
   "outputs": [],
   "source": [
    "# YOUR CODE HERE\n"
   ]
  },
  {
   "cell_type": "markdown",
   "metadata": {},
   "source": [
    "## A Teaser for Day 2...\n",
    "\n",
    "You may be wondering if and how we could make our maps more interesting and informative than what we've seen so far.\n",
    "\n",
    "To give you a tantalizing taste of Day 2, the answer is: Yes, we can! And here's how!"
   ]
  },
  {
   "cell_type": "code",
   "execution_count": null,
   "metadata": {},
   "outputs": [],
   "source": [
    "ax = schools_gdf_utm10.plot(column='Org',\n",
    "                            cmap='winter', \n",
    "                            markersize=35,\n",
    "                            edgecolor='black',\n",
    "                            linewidth=0.5,\n",
    "                            alpha=1,\n",
    "                            figsize=(9, 9),\n",
    "                            legend=True)\n",
    "ax.set_title('Public and Private Schools, Alameda County')"
   ]
  }
 ],
 "metadata": {
  "kernelspec": {
   "display_name": "Python 3 (ipykernel)",
   "language": "python",
   "name": "python3"
  },
  "language_info": {
   "codemirror_mode": {
    "name": "ipython",
    "version": 3
   },
   "file_extension": ".py",
   "mimetype": "text/x-python",
   "name": "python",
   "nbconvert_exporter": "python",
   "pygments_lexer": "ipython3",
   "version": "3.8.12"
  }
 },
 "nbformat": 4,
 "nbformat_minor": 4
}
