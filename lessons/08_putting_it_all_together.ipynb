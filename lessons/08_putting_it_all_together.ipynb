{
 "cells": [
  {
   "cell_type": "markdown",
   "metadata": {},
   "source": [
    "# Putting it All Together\n",
    "\n",
    "For this last lesson, we'll practice going through a full workflow!\n",
    "\n",
    "We'll answer the question:\n",
    "\n",
    "## **What is the total grocery-store sales volume of each Census tract?**"
   ]
  },
  {
   "cell_type": "markdown",
   "metadata": {},
   "source": [
    "## The Workflow\n",
    "\n",
    "Here's a set of steps that we will implement in the labeled cells below:\n",
    "\n",
    "**Importing Datasets**\n",
    "\n",
    "- Read in the joined tracts/ACS data\n",
    "- Read the grocery data CSV into a pandas DataFrame (it lives at `'../data/other/ca_grocery_stores_2019_wgs84.csv`).\n",
    "- Convert it to a GeoDataFrame.\n",
    "- Define its CRS (EPSG:4326).\n",
    "- Transform it to match the CRS of `tracts_acs_gdf_ac`.\n",
    "- Examine the transformed GeoDataFrame\n",
    "\n",
    "**Spatial Join and Dissolve**\n",
    "\n",
    "- Join the two datasets in such a way that you can then...\n",
    "- Group by tract and calculate the total grocery-store sales volume.\n",
    "- Don't forget to check the dimensions, contents, and any other relevant aspects of your results.\n",
    "\n",
    "**Plot and Review**\n",
    "\n",
    "- Plot the tracts, coloring them by total grocery-store sales volume.\n",
    "- Plot the grocery stores on top.\n",
    "- Bonus points for devising a nice visualization scheme that helps you heuristically check your results!\n",
    "\n",
    "**We've written out some of the code for you, but you'll need to replace the ellipses with the correct\n",
    "content.**"
   ]
  },
  {
   "cell_type": "code",
   "execution_count": null,
   "metadata": {},
   "outputs": [],
   "source": [
    "import pandas as pd\n",
    "import geopandas as gpd\n",
    "\n",
    "import matplotlib\n",
    "import matplotlib.pyplot as plt\n",
    "\n",
    "%matplotlib inline  "
   ]
  },
  {
   "cell_type": "markdown",
   "metadata": {},
   "source": [
    "## Importing Datasets\n",
    "\n",
    "We first need to prepare our data by loading the joined tracts/ACS data and grocery data, and conduct our usual steps to make there they have the same CRS.\n",
    "\n",
    "- Read in the joined tracts/ACS data\n",
    "- Read the grocery data CSV into a pandas DataFrame (it lives at `'../data/other/ca_grocery_stores_2019_wgs84.csv`).\n",
    "- Convert it to a GeoDataFrame.\n",
    "- Define its CRS (EPSG:4326).\n",
    "- Transform it to match the CRS of `tracts_acs_gdf_ac`.\n",
    "- Examine the transformed GeoDataFrame"
   ]
  },
  {
   "cell_type": "code",
   "execution_count": null,
   "metadata": {},
   "outputs": [],
   "source": [
    "# Read in the joined tracts/ACS data\n",
    "tracts_acs_gdf_ac = gpd.read_file(...)"
   ]
  },
  {
   "cell_type": "code",
   "execution_count": null,
   "metadata": {},
   "outputs": [],
   "source": [
    "# Read the grocery data CSV into a pandas DataFrame\n",
    "grocery_pts_df = pd.read_csv(...)"
   ]
  },
  {
   "cell_type": "code",
   "execution_count": null,
   "metadata": {},
   "outputs": [],
   "source": [
    "# Convert it to a GeoDataFrame\n",
    "grocery_pts_gdf = gpd.GeoDataFrame(grocery_pts_df, \n",
    "                                   geometry=gpd.points_from_xy(..., ...))"
   ]
  },
  {
   "cell_type": "code",
   "execution_count": null,
   "metadata": {},
   "outputs": [],
   "source": [
    "# Define its CRS\n",
    "# Use EPSG:4326\n",
    "grocery_pts_gdf.crs = ..."
   ]
  },
  {
   "cell_type": "code",
   "execution_count": null,
   "metadata": {},
   "outputs": [],
   "source": [
    "# Transform it to match the CRS of tracts_acs_gdf_ac\n",
    "grocery_pts_gdf.to_crs(..., inplace=...)"
   ]
  },
  {
   "cell_type": "code",
   "execution_count": null,
   "metadata": {},
   "outputs": [],
   "source": [
    "# Examine transformed GeoDataFrame\n",
    "grocery_pts_gdf.head()"
   ]
  },
  {
   "cell_type": "markdown",
   "metadata": {},
   "source": [
    "## Spatial Join and Dissolve\n",
    "\n",
    "Now that we have our data and they're in the same projection, we're going to conduct an *attribute join* to bring together the two datasets. From there we'll be able to actually *aggregate* our data to count the total sales volume.\n",
    "\n",
    "Complete the following steps:\n",
    "\n",
    "- Join the two datasets in such a way that you can then...\n",
    "- Group by tract and calculate the total grocery-store sales volume.\n",
    "- Don't forget to check the dimensions, contents, and any other relevant aspects of your results."
   ]
  },
  {
   "cell_type": "code",
   "execution_count": null,
   "metadata": {},
   "outputs": [],
   "source": [
    "# Join the two datasets\n",
    "tracts_joingrocery = gpd.sjoin(..., ..., how=...)"
   ]
  },
  {
   "cell_type": "code",
   "execution_count": null,
   "metadata": {},
   "outputs": [],
   "source": [
    "# Group by tract and calculate the total grocery-store sales volume\n",
    "tracts_totsalesvol = tracts_joingrocery[['GEOID','geometry','SALESVOL']].dissolve(by=...,\n",
    "                                                                                  aggfunc=...,\n",
    "                                                                                  as_index=False)"
   ]
  },
  {
   "cell_type": "code",
   "execution_count": null,
   "metadata": {},
   "outputs": [],
   "source": [
    "# Don't forget to check the dimensions, contents, and any other relevant aspects of your results\n",
    "print(f'Dimensions of result: {...}')\n",
    "print(f'Dimesions of Census tracts: {...}')"
   ]
  },
  {
   "cell_type": "code",
   "execution_count": null,
   "metadata": {},
   "outputs": [],
   "source": [
    "# Check the result\n",
    "tracts_totsalesvol.head()"
   ]
  },
  {
   "cell_type": "markdown",
   "metadata": {},
   "source": [
    "## Plot and Review\n",
    "\n",
    "With any type of geospatial analysis you do, it's always nice to plot and visualize your results to check your work and start to understand the full story of your analysis.\n",
    "\n",
    "Complete the following:\n",
    "\n",
    "- Plot the tracts, coloring them by total grocery-store sales volume.\n",
    "- Plot the grocery stores on top.\n",
    "- Bonus points for devising a nice visualization scheme that helps you heuristically check your results!\n",
    "\n",
    "We've broken these steps into three individual cells,"
   ]
  },
  {
   "cell_type": "code",
   "execution_count": null,
   "metadata": {},
   "outputs": [],
   "source": [
    "# Subset the stores for only those within our tracts, to keep map within region of interest\n",
    "grocery_pts_gdf_ac = grocery_pts_gdf[...]"
   ]
  },
  {
   "cell_type": "code",
   "execution_count": null,
   "metadata": {},
   "outputs": [],
   "source": [
    "# Create the figure and axes\n",
    "fig, ax = plt.subplots(figsize = (20,20)) \n",
    "# Plot the tracts, coloring by total SALESVOL\n",
    "tracts_totsalesvol.plot(ax=ax,\n",
    "                        column=...,\n",
    "                        scheme=\"quantiles\",\n",
    "                        cmap=\"autumn\",\n",
    "                        edgecolor=\"grey\",\n",
    "                        legend=True,\n",
    "                        legend_kwds={'title': ...})\n",
    "\n",
    "# Add the grocery stores, coloring by SALESVOL, for a visual check\n",
    "grocery_pts_gdf_ac.plot(ax=ax,\n",
    "                        column=...,\n",
    "                        cmap=...,\n",
    "                        linewidth=...,\n",
    "                        markersize=...,\n",
    "                        legend=True,\n",
    "                        legend_kwds={'label': ...,\n",
    "                                     'orientation': 'horizontal',\n",
    "                                     'pad': 0.05})"
   ]
  },
  {
   "cell_type": "markdown",
   "metadata": {},
   "source": [
    "# You Made It! Thanks for Joining Us for Python Geospatial Fundamentals!\n",
    "\n",
    "<img src=\"https://statmodeling.stat.columbia.edu/wp-content/uploads/2016/07/cat-globe.png\">"
   ]
  }
 ],
 "metadata": {
  "kernelspec": {
   "display_name": "Python 3 (ipykernel)",
   "language": "python",
   "name": "python3"
  },
  "language_info": {
   "codemirror_mode": {
    "name": "ipython",
    "version": 3
   },
   "file_extension": ".py",
   "mimetype": "text/x-python",
   "name": "python",
   "nbconvert_exporter": "python",
   "pygments_lexer": "ipython3",
   "version": "3.8.12"
  }
 },
 "nbformat": 4,
 "nbformat_minor": 4
}
