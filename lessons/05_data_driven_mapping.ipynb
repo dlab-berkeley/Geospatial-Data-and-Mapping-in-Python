{
 "cells": [
  {
   "cell_type": "markdown",
   "metadata": {},
   "source": [
    "# Data-driven Mapping\n",
    "\n",
    "*Data-driven mapping* refers to the process of using data values to determine the symbology of mapped features. Color, shape, and size are the three most common symbology types used in data-driven mapping.\n",
    "Data-driven maps are often refered to as thematic maps.\n",
    "\n",
    "There are two primary types of maps used to convey data values:\n",
    "\n",
    "- **Choropleth maps**: set the color of areas (polygons) by data value.\n",
    "- **Point symbol maps**: set the color or size of points by data value.\n",
    "\n",
    "We will discuss both of these types of maps in more detail in this lesson.\n",
    "\n",
    "<!---\n",
    "- Expected time to complete\n",
    "    - Lecture + Questions: 30 minutes\n",
    "    - Exercises: 15 minutes\n",
    "-->"
   ]
  },
  {
   "cell_type": "code",
   "execution_count": null,
   "metadata": {},
   "outputs": [],
   "source": [
    "import pandas as pd\n",
    "import geopandas as gpd\n",
    "\n",
    "import matplotlib\n",
    "import matplotlib.pyplot as plt\n",
    "\n",
    "%matplotlib inline  "
   ]
  },
  {
   "cell_type": "markdown",
   "metadata": {},
   "source": [
    "## Choropleth Maps\n",
    "\n",
    "Choropleth maps are the most common type of thematic map.\n",
    "\n",
    "Let's take a look at how we can use a GeoDataFrame to make a choropleth map. We'll start by reloading our counties dataset from Day 1."
   ]
  },
  {
   "cell_type": "code",
   "execution_count": null,
   "metadata": {},
   "outputs": [],
   "source": [
    "counties = gpd.read_file('../data/california_counties/CaliforniaCounties.shp')"
   ]
  },
  {
   "cell_type": "code",
   "execution_count": null,
   "metadata": {},
   "outputs": [],
   "source": [
    "counties.head()"
   ]
  },
  {
   "cell_type": "code",
   "execution_count": null,
   "metadata": {},
   "outputs": [],
   "source": [
    "counties.columns"
   ]
  },
  {
   "cell_type": "markdown",
   "metadata": {},
   "source": [
    "Here's a plain map of our polygons."
   ]
  },
  {
   "cell_type": "code",
   "execution_count": null,
   "metadata": {},
   "outputs": [],
   "source": [
    "counties.plot()"
   ]
  },
  {
   "cell_type": "markdown",
   "metadata": {},
   "source": [
    "Now, for comparison, let's create a choropleth map by setting the color of the county based on the values in the population per square mile (`POP12_SQMI`) column."
   ]
  },
  {
   "cell_type": "code",
   "execution_count": null,
   "metadata": {},
   "outputs": [],
   "source": [
    "counties.plot(column='POP12_SQMI', figsize=(10, 10))"
   ]
  },
  {
   "cell_type": "markdown",
   "metadata": {},
   "source": [
    "That's really the heart of it. To set the color of the features based on the values in a column, we set the `column` argument to the column name in the GeoDataFrame.\n",
    "\n",
    "> **Protip:** You can quickly right-click on the plot and save to a file or open in a new browser window.\n",
    "\n",
    "By default, map colors are linearly scaled to data values. This is called a `proportional color map`. The great thing about `proportional color maps` is that you can visualize the full range of data values.\n",
    "\n",
    "We can also add a legend, and even tweak its display."
   ]
  },
  {
   "cell_type": "code",
   "execution_count": null,
   "metadata": {},
   "outputs": [],
   "source": [
    "counties.plot(column='POP12_SQMI', figsize=(10, 10), legend=True)\n",
    "plt.show()"
   ]
  },
  {
   "cell_type": "markdown",
   "metadata": {},
   "source": [
    "Let's customize this even further!"
   ]
  },
  {
   "cell_type": "code",
   "execution_count": null,
   "metadata": {},
   "outputs": [],
   "source": [
    "counties.plot(column='POP12_SQMI',\n",
    "              figsize=(10, 10),\n",
    "              legend=True,\n",
    "              legend_kwds={'label': \"Population Density per mile$^2$\",\n",
    "                           'orientation': \"horizontal\"})\n",
    "plt.show()"
   ]
  },
  {
   "cell_type": "markdown",
   "metadata": {},
   "source": [
    "---\n",
    "\n",
    "### Challenge 1: Plotting Different Columns\n",
    "\n",
    "Why are we plotting `POP12_SQMI` instead of `POP2012`? What do each of the two columns tell us?\n",
    "\n",
    "Try plotting `POP2012`, instead. What does this look like?\n",
    "\n",
    "---"
   ]
  },
  {
   "cell_type": "code",
   "execution_count": null,
   "metadata": {},
   "outputs": [],
   "source": [
    "# YOUR CODE HERE\n"
   ]
  },
  {
   "cell_type": "markdown",
   "metadata": {},
   "source": [
    "### Note: Types of Color Maps\n",
    "\n",
    "There are a few different types of color maps (or color palettes), each of which has a different purpose:\n",
    "\n",
    "- *diverging*: a \"diverging\" set of colors are used so emphasize mid-range values as well as extremes.\n",
    "- *sequential*: usually with a single color hue to emphasize changes in magnitude, where darker colors typically mean higher values\n",
    "- *qualitative*: a diverse set of colors to identify categories and avoid implying quantitative significance.\n",
    "\n",
    "<img src=\"http://www.gnuplotting.org/figs/colorbrewer.png\"></img>\n",
    "\n",
    "> **Pro-tip**: You can actually see all your color map options if you misspell what you put in `cmap` and try to run-in. Try it out!\n",
    "\n",
    "> **Pro-tip**: Sites like [ColorBrewer](https://colorbrewer2.org/#type=sequential&scheme=Blues&n=3) let you play around with different types of color maps. If you want to create your own, [The Python Graph Gallery](https://python-graph-gallery.com/python-colors/) is a way to see what your Python color options are."
   ]
  },
  {
   "cell_type": "markdown",
   "metadata": {},
   "source": [
    "## Things to Keep in Mind When Creating Visualization\n",
    "\n",
    "### Types of Choropleth Data\n",
    "\n",
    "There are several types of quantitative data variables that can be used to create a choropleth map. Let's consider these in terms of the ACS data.\n",
    "\n",
    "- **Count**: counts, aggregated by feature\n",
    "    - *e.g. population within a census tract*\n",
    "- **Density**: count, aggregated by feature, normalized by feature area\n",
    "    - *e.g. population per square mile within a census tract*\n",
    "- **Proportions / Percentages**: value in a specific category divided by total value across in all categories\n",
    "    - *e.g. proportion of the tract population that is white compared to the total tract population*\n",
    "- **Rates / Ratios**: value in one category divided by value in another category\n",
    "    - *e.g. homeowner-to-renter ratio would be calculated as the number of homeowners (c_owners/ c_renters)*\n",
    "    \n",
    "### Interpretability of Plotted Data\n",
    "\n",
    "The goal of a choropleth map is to use color to visualize the spatial distribution of a quantitative variable.\n",
    "\n",
    "Brighter or richer colors are typically used to signify higher values.\n",
    "\n",
    "A big problem with choropleth maps is that our eyes are drawn to the color of larger areas, even if the values being mapped in one or more smaller areas are more important.\n",
    "\n",
    "We see just this sort of problem in our population-density map. \n",
    "\n",
    "***Why does our map not look that interesting?*** Take a look at the histogram below, then consider the following question."
   ]
  },
  {
   "cell_type": "code",
   "execution_count": null,
   "metadata": {},
   "outputs": [],
   "source": [
    "plt.hist(counties['POP12_SQMI'], bins=40)\n",
    "plt.title('Population Density per mile$^2$')\n",
    "plt.show()"
   ]
  },
  {
   "cell_type": "markdown",
   "metadata": {},
   "source": [
    "What county does that outlier represent? What problem does that pose?"
   ]
  },
  {
   "cell_type": "markdown",
   "metadata": {},
   "source": [
    "## Classification Schemes\n",
    "\n",
    "Let's try to make our map more interpretable!\n",
    "\n",
    "The common alternative to a proportionial color map is to use a **classification scheme** to create a **graduated color map**. This is the standard way to create a **choropleth map**.\n",
    "\n",
    "A **classification scheme** is a method for binning continuous data values into 4-7 classes (the default is 5) and map those classes to a color palette. \n",
    "\n",
    "The commonly used classifications schemes include:\n",
    "\n",
    "- **Equal intervals**\n",
    "    - Equal-size data ranges (e.g., values within 0-10, 10-20, 20-30, etc.).\n",
    "    - <u>Pros</u>:\n",
    "        - Best for data spread across entire range of values.\n",
    "        - Easily understood by map readers.\n",
    "    - <u>Cons</u>:\n",
    "        - Avoid if you have highly skewed data or a few big outliers.\n",
    " \n",
    "- **Quantiles**\n",
    "    - Equal number of observations in each bin\n",
    "    - <u>Pros</u>:\n",
    "        - Looks nice, because it best spreads colors across full set of data values.\n",
    "        - Thus, it's often the default scheme for mapping software.\n",
    "    - <u>Cons</u>:\n",
    "        - Bins ranges based on the number of observations, not on the data values.\n",
    "        - Thus, different classes can have very similar or very different values.\n",
    " \n",
    "- **Natural breaks**\n",
    "    - Minimizes within-class variance and maximize between-class differences.\n",
    "    - Typical method is `'fisher-jenks'`.\n",
    "    - <u>Pros</u>:\n",
    "        - Great for exploratory data analysis, because it can identify natural groupings.\n",
    "    - <u>Cons</u>:\n",
    "        - Class breaks are best fit to one dataset, so the same bins can't always be used for multiple years.\n",
    " \n",
    "- **Manual** \n",
    "    - Classifications are user-defined.\n",
    "    - <u>Pros</u>: \n",
    "        - Especially useful if you want to slightly change the breaks produced by another scheme.\n",
    "        - Can be used as a fixed set of breaks to compare data over time.\n",
    "    - <u>Cons</u>:\n",
    "        - More work involved."
   ]
  },
  {
   "cell_type": "markdown",
   "metadata": {},
   "source": [
    "### Classification Schemes and GeoDataFrames\n",
    "\n",
    "Classification schemes can be implemented using the geodataframe `plot` method by setting a value for the **scheme** argument. This requires the [pysal](https://pysal.org/) and [mapclassify](https://pysal.org/mapclassify) libraries to be installed in your Python environment. \n",
    "\n",
    "Here is a list of the `classification schemes` names that we will use:\n",
    "\n",
    "- `equalinterval`\n",
    "- `quantiles`\n",
    "- `fisherjenks`\n",
    "- `naturalbreaks`\n",
    "- `userdefined`.\n",
    "\n",
    "For more information about these classification schemes, see the [pysal mapclassifiers web page](https://pysal.org/mapclassify/api.html) or check out the help docs.\n",
    "\n",
    "Let's redo the last map using the `quantile` classification scheme."
   ]
  },
  {
   "cell_type": "code",
   "execution_count": null,
   "metadata": {},
   "outputs": [],
   "source": [
    "# Plot population density\n",
    "fig, ax = plt.subplots(figsize=(10, 5)) \n",
    "counties.plot(column='POP12_SQMI', \n",
    "              scheme=\"quantiles\",\n",
    "              legend=True,\n",
    "              ax=ax)\n",
    "ax.set_title(\"Population Density per Square Mile\")"
   ]
  },
  {
   "cell_type": "markdown",
   "metadata": {},
   "source": [
    "What is different about the code? About the output map?"
   ]
  },
  {
   "cell_type": "markdown",
   "metadata": {},
   "source": [
    "### User Defined Classification Schemes\n",
    "\n",
    "You may get pretty close to your final map without being completely satisfied. In this case, you can manually define a classification scheme.\n",
    "\n",
    "Let's customize our map with a `user-defined` classification scheme where we manually set the breaks for the bins using the `classification_kwds` argument."
   ]
  },
  {
   "cell_type": "code",
   "execution_count": null,
   "metadata": {},
   "outputs": [],
   "source": [
    "fig, ax = plt.subplots(figsize=(14, 8)) \n",
    "counties.plot(column='POP12_SQMI',\n",
    "              legend=True, \n",
    "              cmap=\"RdYlGn\", \n",
    "              scheme='user_defined', \n",
    "              classification_kwds={'bins': [50, 100, 200, 300, 400]},\n",
    "              ax=ax)\n",
    "ax.set_title(\"Population Density per Square Mile\")"
   ]
  },
  {
   "cell_type": "markdown",
   "metadata": {},
   "source": [
    "Since we are customizing our plot, we can also edit our legend to specify and format the text so that it's easier to read.\n",
    "\n",
    "- We'll use `legend_labels_list` to customize the labels for group in the legend."
   ]
  },
  {
   "cell_type": "code",
   "execution_count": null,
   "metadata": {
    "scrolled": true
   },
   "outputs": [],
   "source": [
    "fig, ax = plt.subplots(figsize=(14, 8)) \n",
    "counties.plot(column='POP12_SQMI',\n",
    "              legend=True, \n",
    "              cmap=\"RdYlGn\", \n",
    "              scheme='user_defined', \n",
    "              classification_kwds={'bins': [50, 100, 200, 300, 400]},\n",
    "              ax=ax)\n",
    "ax.set_title(\"Population Density per Square Mile\")\n",
    "\n",
    "# Create the labels for the legend\n",
    "legend_labels_list = ['<50',\n",
    "                      '50 to 100',\n",
    "                      '100 to 200',\n",
    "                      '200 to 300',\n",
    "                      '300 to 400',\n",
    "                      '>400']\n",
    "\n",
    "# Apply the labels to the plot\n",
    "for idx, label in enumerate(ax.get_legend().get_texts()):\n",
    "    label.set_text(legend_labels_list[idx])"
   ]
  },
  {
   "cell_type": "markdown",
   "metadata": {},
   "source": [
    "### Plotting a Ratio\n",
    "\n",
    "If we look at the columns in our dataset, we see we have a number of variables from which we can calculate proportions, rates, etc.\n",
    "\n",
    "Let's try that out:"
   ]
  },
  {
   "cell_type": "code",
   "execution_count": null,
   "metadata": {},
   "outputs": [],
   "source": [
    "counties.head()"
   ]
  },
  {
   "cell_type": "code",
   "execution_count": null,
   "metadata": {},
   "outputs": [],
   "source": [
    "fig, ax = plt.subplots(figsize=(15, 6)) \n",
    "# Plot percent Hispanic as choropleth\n",
    "counties.plot(column=(100 * counties['HISPANIC'] / counties['POP2012']), \n",
    "              legend=True, \n",
    "              cmap=\"Blues\", \n",
    "              scheme='user_defined', \n",
    "              classification_kwds={'bins': [20, 40, 60, 80]},\n",
    "              edgecolor=\"grey\",\n",
    "              linewidth=0.5,\n",
    "              ax=ax)\n",
    "\n",
    "legend_labels_list = ['<20%',\n",
    "                      '20% - 40%',\n",
    "                      '40% - 60%',\n",
    "                      '60% - 80%',\n",
    "                      '80% - 100%']\n",
    "\n",
    "# Apply the labels to the plot\n",
    "for idx, label in enumerate(ax.get_legend().get_texts()):\n",
    "    label.set_text(legend_labels_list[idx])\n",
    "\n",
    "ax.set_title(\"Percent Hispanic Population\")\n",
    "plt.tight_layout()"
   ]
  },
  {
   "cell_type": "markdown",
   "metadata": {},
   "source": [
    "---\n",
    "\n",
    "### Challenge 2: Reflecting on Chloropleth Maps\n",
    "\n",
    "1. What new options and operations have we added to our code?\n",
    "2. Based on our code, what title would you give this plot to describe what it displays?\n",
    "3. How many bins do we specify in the `legend_labels_list` object, and how many bins are in the map legend? Why?\n",
    "\n",
    "---"
   ]
  },
  {
   "cell_type": "markdown",
   "metadata": {},
   "source": [
    "## Point Maps\n",
    "\n",
    "Choropleth maps are great, but mapping using point symbols enables us to visualize our spatial data in another way. \n",
    "\n",
    "If you know both mapping methods you can expand how much information you can show in one map. \n",
    "\n",
    "For example, point maps are a great way to map `counts` because the varying sizes of areas are deemphasized.\n",
    "\n",
    "Let's read in some point data on Alameda County schools."
   ]
  },
  {
   "cell_type": "code",
   "execution_count": null,
   "metadata": {},
   "outputs": [],
   "source": [
    "schools_df = pd.read_csv('../data/alco_schools.csv')\n",
    "schools_df.head()"
   ]
  },
  {
   "cell_type": "markdown",
   "metadata": {},
   "source": [
    "We got it from a plain CSV file, so let's convert it to a GeoDataFrame."
   ]
  },
  {
   "cell_type": "code",
   "execution_count": null,
   "metadata": {},
   "outputs": [],
   "source": [
    "schools_gdf = gpd.GeoDataFrame(schools_df, \n",
    "                               geometry=gpd.points_from_xy(schools_df.X, schools_df.Y))\n",
    "schools_gdf.crs = \"epsg:4326\""
   ]
  },
  {
   "cell_type": "markdown",
   "metadata": {},
   "source": [
    "Now, we can map it."
   ]
  },
  {
   "cell_type": "code",
   "execution_count": null,
   "metadata": {},
   "outputs": [],
   "source": [
    "schools_gdf.plot()\n",
    "plt.title('Alameda County Schools')"
   ]
  },
  {
   "cell_type": "markdown",
   "metadata": {},
   "source": [
    "### Proportional Color Maps\n",
    "\n",
    "**Proportional color maps** linearly scale the `color` of a point symbol by the data values.\n",
    "\n",
    "Let's try this by creating a map of `API`. API stands for *Academic Performance Index*, which is a measurement system that looks at the performance of an individual school."
   ]
  },
  {
   "cell_type": "code",
   "execution_count": null,
   "metadata": {},
   "outputs": [],
   "source": [
    "schools_gdf.plot(column=\"API\",\n",
    "                 cmap=\"gist_heat\", \n",
    "                 edgecolor=\"grey\",\n",
    "                 figsize=(10, 8),\n",
    "                 legend=True)\n",
    "plt.title(\"Alameda County, School API scores\")"
   ]
  },
  {
   "cell_type": "markdown",
   "metadata": {},
   "source": [
    "When you see that continuous color bar in the legend, you know that the mapping of data values to colors is not classified."
   ]
  },
  {
   "cell_type": "markdown",
   "metadata": {},
   "source": [
    "### Graduated Color Maps\n",
    "\n",
    "We can also create **graduated color maps** by binning data values before associating them with colors. These are just like choropleth maps, except that the term \"choropleth\" is only used with polygon data. \n",
    "\n",
    "Graduated color maps use the same syntax as the choropleth maps above: you create them by setting a value for `scheme`. \n",
    "\n",
    "Below, we copy the code we used above to create a choropleth, but we change the name of the GeoDataFrame to use the point geometry."
   ]
  },
  {
   "cell_type": "code",
   "execution_count": null,
   "metadata": {},
   "outputs": [],
   "source": [
    "fig, ax = plt.subplots(figsize = (15, 6)) \n",
    "\n",
    "# Plot percent non-white with graduated colors\n",
    "schools_gdf.plot(column='API', \n",
    "                 legend=True, \n",
    "                 cmap=\"Blues\",\n",
    "                 scheme='user_defined', \n",
    "                 classification_kwds={'bins':[0, 200, 400, 600, 800]},\n",
    "                 edgecolor=\"grey\",\n",
    "                 #markersize=60,\n",
    "                 linewidth=0.5,\n",
    "                 ax=ax)\n",
    "\n",
    "# Create a custom legend\n",
    "legend_labels_list = ['0',\n",
    "                      '< 200',\n",
    "                      '< 400',\n",
    "                      '< 600',\n",
    "                      '< 800',\n",
    "                      '>= 800']\n",
    "\n",
    "# Apply the labels to the plot\n",
    "for idx, label in enumerate(ax.get_legend().get_texts()):\n",
    "    label.set_text(legend_labels_list[idx])\n",
    "\n",
    "ax.set_title(\"Alameda County, School API scores\")\n",
    "plt.tight_layout()"
   ]
  },
  {
   "cell_type": "code",
   "execution_count": null,
   "metadata": {},
   "outputs": [],
   "source": [
    "schools_gdf['API'].describe()"
   ]
  },
  {
   "cell_type": "markdown",
   "metadata": {},
   "source": [
    "As you can see, the syntax for a choropleth and graduated color map is the same,\n",
    "although some options only apply to one or the other.\n",
    "\n",
    "For example, uncomment the `markersize` parameter above to see how you can further customize a graduated color map."
   ]
  },
  {
   "cell_type": "markdown",
   "metadata": {},
   "source": [
    "### Graduated Symbol Maps\n",
    "\n",
    "`Graduated symbol maps` are also a great method for mapping points.  These are just like graduated color maps, but instead of associating symbol color with data values, they associate point size. Similarly, graduated symbol maps use `classification schemes` to set the size of point symbols. \n",
    "\n",
    "> We demonstrate how to make graduated symbol maps along with some other mapping techniques in the `Optional Mapping notebook` which we encourage you to explore on your own. (***Coming Soon***)"
   ]
  },
  {
   "cell_type": "markdown",
   "metadata": {},
   "source": [
    "## Mapping Categorical Data\n",
    "\n",
    "Mapping categorical data, also called qualitative data, is a bit more straightforward. There is no need to scale or classify data values. The goal of the color map is to provide a contrasting set of colors so as to clearly delineate different categories. Here's a point-based example:"
   ]
  },
  {
   "cell_type": "code",
   "execution_count": null,
   "metadata": {},
   "outputs": [],
   "source": [
    "schools_gdf.plot(column='Org', categorical=True, legend=True)"
   ]
  },
  {
   "cell_type": "markdown",
   "metadata": {},
   "source": [
    "---\n",
    "\n",
    "### Challenge 3: Data-Driven Mapping\n",
    "\n",
    "Point and polygons are not the only geometry-types that we can use in data-driven mapping!\n",
    "\n",
    "Run the next cell to load a dataset containing Berkeley's bicycle boulevards (which we'll be using more in the following notebook).\n",
    "\n",
    "Then, in the following cell, write your own code to:\n",
    "\n",
    "1. Plot the bike boulevards;\n",
    "2. Color them by status (find the correct column in the head of the dataframe, displayed below);\n",
    "3. Color them using a fitting, good-looking qualitative colormap that you choose from [The Matplotlib Colormap Reference](https://matplotlib.org/3.1.1/gallery/color/colormap_reference.html);\n",
    "4. Set the line width to 5 (check the plot method's documentation to find the right argument for this!);\n",
    "4. Add the argument `figsize=(15, 15)`, to make your map nice and big and visible!\n",
    "    \n",
    "Using this map, answer the following questions:\n",
    "\n",
    "1. What does that map indicate about the status of the Berkeley bike boulevards?\n",
    "2. What does that map indicate about the status of your Berkeley bike-boulevard *dataset*?\n",
    "\n",
    "---"
   ]
  },
  {
   "cell_type": "code",
   "execution_count": null,
   "metadata": {},
   "outputs": [],
   "source": [
    "bike_blvds = gpd.read_file('../data/transportation/BerkeleyBikeBlvds.geojson')\n",
    "bike_blvds.head()"
   ]
  },
  {
   "cell_type": "code",
   "execution_count": null,
   "metadata": {},
   "outputs": [],
   "source": [
    "# YOUR CODE HERE\n"
   ]
  }
 ],
 "metadata": {
  "kernelspec": {
   "display_name": "Python 3 (ipykernel)",
   "language": "python",
   "name": "python3"
  },
  "language_info": {
   "codemirror_mode": {
    "name": "ipython",
    "version": 3
   },
   "file_extension": ".py",
   "mimetype": "text/x-python",
   "name": "python",
   "nbconvert_exporter": "python",
   "pygments_lexer": "ipython3",
   "version": "3.8.12"
  }
 },
 "nbformat": 4,
 "nbformat_minor": 4
}
