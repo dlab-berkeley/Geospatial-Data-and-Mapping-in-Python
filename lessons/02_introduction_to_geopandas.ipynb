{
 "cells": [
  {
   "cell_type": "markdown",
   "metadata": {},
   "source": [
    "# Introduction to GeoPandas\n",
    "\n",
    "In this lesson, we'll learn about a package that is core to using geospatial data in Python: GeoPandas. We'll explore the structure of geospatial data (which, turns out, is not too different from DataFrames!), including geometries, shapefiles, and how to save your hard work.\n",
    "\n",
    "\n",
    "<!--\n",
    "Instructor Notes\n",
    "\n",
    "Expected time to complete:\n",
    "    Lecture + Questions: 30 minutes\n",
    "    Exercises: 5 minutes\n",
    "-->"
   ]
  },
  {
   "cell_type": "markdown",
   "metadata": {},
   "source": [
    "## What is GeoPandas?\n",
    "\n",
    "[GeoPandas](http://geopandas.org/) is a relatively new package that makes it easier to work with geospatial data in Python. In the last few years it has grown more powerful and stable, allow Python to practioners to more easily and flexibly work with geospatial data in Python, which had been difficult in the past. GeoPandas is now the go-to package for working with `vector` geospatial data in Python. \n",
    "\n",
    "> **Protip**: If you work with `raster` data, check out the [rasterio](https://rasterio.readthedocs.io/en/latest/) package. We will not cover raster data in this tutorial.\n",
    "\n",
    "GeoPandas gives you access to all of the functionality of [pandas](https://pandas.pydata.org/), which is the primary data analysis tool for working with tabular data in Python. GeoPandas extends pandas with attributes and methods for working with geospatial data. So, if you're familiar with pandas, working with geospatial data is a natural next step."
   ]
  },
  {
   "cell_type": "markdown",
   "metadata": {},
   "source": [
    "### Import Libraries\n",
    "\n",
    "Let's start by importing the libraries that we will use. If you haven't already, you can install GeoPandas within this notebook:"
   ]
  },
  {
   "cell_type": "code",
   "execution_count": null,
   "metadata": {},
   "outputs": [],
   "source": [
    "# Install GeoPandas if you don't have it yet\n",
    "%pip install geopandas"
   ]
  },
  {
   "cell_type": "code",
   "execution_count": null,
   "metadata": {},
   "outputs": [],
   "source": [
    "import pandas as pd\n",
    "import geopandas as gpd\n",
    "\n",
    "import matplotlib # Base python plotting library\n",
    "import matplotlib.pyplot as plt # Submodule of matplotlib\n",
    "\n",
    "# To display plots, maps, charts etc in the notebook\n",
    "%matplotlib inline  "
   ]
  },
  {
   "cell_type": "markdown",
   "metadata": {},
   "source": [
    "### Read in a Shapefile\n",
    "\n",
    "As we discussed in the initial geospatial overview, a *shapefile* is one type of geospatial data that holds vector data. \n",
    "\n",
    "> To learn more about ESRI Shapefiles, this is a good place to start: [ESRI Shapefile Wiki Page](https://en.wikipedia.org/wiki/Shapefile) \n",
    "\n",
    "The tricky thing to remember about shapefiles is that they're actually a collection of 3 to 9+ files together. Here's a list of all the files that can make up a shapefile:\n",
    " \n",
    "* `shp`: The main file that stores the feature geometry\n",
    "* `shx`: The index file that stores the index of the feature geometry  \n",
    "* `dbf`: The dBASE table that stores the attribute information of features \n",
    "* `prj`: The file that stores the coordinate system information. (should be required!)\n",
    "* `xml`: Metadata: Stores information about the shapefile.\n",
    "* `cpg`: Specifies the code page for identifying the character set to be used.\n",
    "\n",
    "But it remains the most commonly used file format for vector spatial data, and it's really easy to visualize in one go!\n",
    "\n",
    "Let's try it out with California counties, and use GeoPandas for the first time. We can use a flexible function called `gpd.read_file` to read in many different types of geospatial data. When using it, we'll specify the `shp` file:"
   ]
  },
  {
   "cell_type": "code",
   "execution_count": null,
   "metadata": {},
   "outputs": [],
   "source": [
    "# Read in the counties shapefile\n",
    "counties = gpd.read_file('../data/california_counties/CaliforniaCounties.shp')"
   ]
  },
  {
   "cell_type": "code",
   "execution_count": null,
   "metadata": {},
   "outputs": [],
   "source": [
    "# Plot out California counties\n",
    "counties.plot()"
   ]
  },
  {
   "cell_type": "markdown",
   "metadata": {},
   "source": [
    "Bam! Amazing! We're off to a running start."
   ]
  },
  {
   "cell_type": "markdown",
   "metadata": {},
   "source": [
    "## Exploring the GeoPandas GeoDataFrame\n",
    "\n",
    "Before we get in too deep, let's discuss what a *GeoDataFrame* is and how it's different from a pandas *DataFrame*.\n",
    "\n",
    "A [GeoPandas GeoDataFrame](https://geopandas.org/data_structures.html#geodataframe), or `gdf` for short, is just like a pandas DataFrame (`df`) but with an extra geometry column as well as accompanying methods and attributes that work on that column. Let's emphasize this point, because it's important:\n",
    "\n",
    "> A [GeoPandas GeoDataFrame](https://geopandas.org/data_structures.html#geodataframe), or `gdf` for short, is just like a pandas DataFrame (`df`) but with an extra geometry column as well as accompanying methods and attributes that work on that column.\n",
    "\n",
    "This means all the methods and attributes of a pandas DataFrame also work on a GeoPandas GeoDataFrame!\n",
    "\n",
    "With that in mind, let's start exploring our dataframe just like we would do in pandas."
   ]
  },
  {
   "cell_type": "code",
   "execution_count": null,
   "metadata": {
    "scrolled": true
   },
   "outputs": [],
   "source": [
    "# Find the number of rows and columns in counties\n",
    "counties.shape"
   ]
  },
  {
   "cell_type": "code",
   "execution_count": null,
   "metadata": {},
   "outputs": [],
   "source": [
    "# Look at the first couple of rows in our geodataframe\n",
    "counties.head()"
   ]
  },
  {
   "cell_type": "code",
   "execution_count": null,
   "metadata": {},
   "outputs": [],
   "source": [
    "# Look at all the variables included in our data\n",
    "counties.columns"
   ]
  },
  {
   "cell_type": "markdown",
   "metadata": {},
   "source": [
    "It looks like we have a good amount of information about the total population for different years and the densities, as well as race, age, and occupancy info. Notice at the end - just like we promised - a geometry column containing many numbers. Let's explore what this means, next."
   ]
  },
  {
   "cell_type": "markdown",
   "metadata": {},
   "source": [
    "## Plot the GeoDataFrame\n",
    "\n",
    "We're able to plot our GeoDataFrame because of the extra `geometry` column. What exactly does this column provide?\n",
    "\n",
    "### GeoPandas Geometries\n",
    "\n",
    "There are three main types of geometries that can be associated with your GeoDataFrame: points, lines and polygons.\n",
    "\n",
    "<img src =\"https://datacarpentry.org/organization-geospatial/fig/dc-spatial-vector/pnt_line_poly.png\" width=\"450\"></img>\n",
    "\n",
    "In the GeoDataFrame, these geometries are encoded in a format known as [Well-Known Text (WKT)](https://en.wikipedia.org/wiki/Well-known_text_representation_of_geometry). Consider the following examples:\n",
    "\n",
    "- POINT (30 10)\n",
    "- LINESTRING (30 10, 10 30, 40 40)\n",
    "- POLYGON ((30 10, 40 40, 20 40, 10 20, 30 10))\n",
    "\n",
    "In each case, coordinates are separated by a spaces, and coordinate pairs are separated by commas.\n",
    "\n",
    "Your geodataframe may also include the variants **multipoints, multilines, and multipolgyons** if the row-level feature of interest is comprised of multiple parts. For example, a GeoDataFrame of states, where one row represents one state, would have a POLYGON geometry for Utah but MULTIPOLYGON for Hawaii, which includes many islands.\n",
    "\n",
    "Note that, it's OK to mix and match geometries of the same family, e.g., POLYGON and MULTIPOLYGON, in the same GeoDataFrame."
   ]
  },
  {
   "cell_type": "markdown",
   "metadata": {},
   "source": [
    "---\n",
    "\n",
    "### Challenge 1\n",
    "\n",
    "What kind of geometry would a GeoDataFrame containing roads have? What about one that includes landmarks in the San Francisco Bay Area?\n",
    "\n",
    "---"
   ]
  },
  {
   "cell_type": "markdown",
   "metadata": {},
   "source": [
    "You can check the types of geometries in a GeoDataFrame or a subset of the GeoDataFrame by combining the `type` and `unique` methods:"
   ]
  },
  {
   "cell_type": "code",
   "execution_count": null,
   "metadata": {},
   "outputs": [],
   "source": [
    "# Let's check what geometries we have in our counties GeoDataFrame\n",
    "counties['geometry'].head()"
   ]
  },
  {
   "cell_type": "code",
   "execution_count": null,
   "metadata": {},
   "outputs": [],
   "source": [
    "# Let's check to make sure that we only have polygons and multipolygons \n",
    "counties['geometry'].type.unique()"
   ]
  },
  {
   "cell_type": "code",
   "execution_count": null,
   "metadata": {},
   "outputs": [],
   "source": [
    "counties.plot()"
   ]
  },
  {
   "cell_type": "markdown",
   "metadata": {},
   "source": [
    "Just like with other plots you can make in Python, we can start customizing our map with colors, size, etc."
   ]
  },
  {
   "cell_type": "code",
   "execution_count": null,
   "metadata": {},
   "outputs": [],
   "source": [
    "# We can run the following line of code to get more info about the parameters we can specify:\n",
    "?counties.plot"
   ]
  },
  {
   "cell_type": "code",
   "execution_count": null,
   "metadata": {},
   "outputs": [],
   "source": [
    "# Make the figure size bigger\n",
    "counties.plot(figsize=(6, 9))"
   ]
  },
  {
   "cell_type": "code",
   "execution_count": null,
   "metadata": {},
   "outputs": [],
   "source": [
    "# Customize our plot further\n",
    "counties.plot(figsize=(6, 9), \n",
    "              edgecolor='grey', # Grey colored border lines\n",
    "              facecolor='pink', # Fill in our counties as pink\n",
    "              linewidth=2)      # Make the linewidth larger"
   ]
  },
  {
   "cell_type": "markdown",
   "metadata": {},
   "source": [
    "## Subset the GeoDataframe\n",
    "\n",
    "Since we'll be focusing on Berkeley later in the workshop, let's subset Alameda County from our GeoDataFrame:"
   ]
  },
  {
   "cell_type": "code",
   "execution_count": null,
   "metadata": {},
   "outputs": [],
   "source": [
    "# See all county names included in our dataset\n",
    "counties['NAME'].values"
   ]
  },
  {
   "cell_type": "markdown",
   "metadata": {},
   "source": [
    "It looks like Alameda county is specified as \"Alameda\" in this dataset.\n",
    "\n",
    "So, let's create a new GeoDataFrame called `alameda_county` that is a subset of our counties GeoDataFrame:"
   ]
  },
  {
   "cell_type": "code",
   "execution_count": null,
   "metadata": {},
   "outputs": [],
   "source": [
    "alameda_county = counties.loc[counties['NAME'] == 'Alameda'].copy().reset_index(drop=True)"
   ]
  },
  {
   "cell_type": "code",
   "execution_count": null,
   "metadata": {},
   "outputs": [],
   "source": [
    "alameda_county"
   ]
  },
  {
   "cell_type": "code",
   "execution_count": null,
   "metadata": {},
   "outputs": [],
   "source": [
    "# Plot our newly subsetted GeoDataFrame\n",
    "alameda_county.plot()"
   ]
  },
  {
   "cell_type": "markdown",
   "metadata": {},
   "source": [
    "Nice! Looks like we have what we were looking for.\n",
    "\n",
    "You can also make dynamic plots of one or more county without saving to a new GeoDataFrame:"
   ]
  },
  {
   "cell_type": "code",
   "execution_count": null,
   "metadata": {},
   "outputs": [],
   "source": [
    "bay_area_counties = ['Alameda',\n",
    "                     'Contra Costa',\n",
    "                     'Marin',\n",
    "                     'Napa',\n",
    "                     'San Francisco', \n",
    "                     'San Mateo',\n",
    "                     'Santa Clara',\n",
    "                     'Santa Cruz',\n",
    "                     'Solano',\n",
    "                     'Sonoma']\n",
    "counties.loc[counties['NAME'].isin(bay_area_counties)].plot()"
   ]
  },
  {
   "cell_type": "markdown",
   "metadata": {},
   "source": [
    "## Save Your Data\n",
    "\n",
    "Let's not forget to save out our Alameda County geodataframe `alameda_county`. This way we won't need to repeat the processing steps and attribute join we did above.\n",
    "\n",
    "We can save it as a shapefile:"
   ]
  },
  {
   "cell_type": "code",
   "execution_count": null,
   "metadata": {},
   "outputs": [],
   "source": [
    "alameda_county.to_file(\"../data/outdata/alameda_county.shp\")"
   ]
  },
  {
   "cell_type": "markdown",
   "metadata": {},
   "source": [
    "One of the problems of saving to a shapefile is that our column names get truncated to 10 characters (this is a shapefile limitation). \n",
    "\n",
    "Instead of renaming all columns with obscure names that are less than 10 characters, we can save our GeoDataFrame to spatial data file formats that do not have this limation, such as [GeoJSON](https://en.wikipedia.org/wiki/GeoJSON) or [GPKG](https://en.wikipedia.org/wiki/GeoPackage) (geopackage) files.\n",
    "\n",
    "These formats have the added benefit of outputting only one file in contrast to the multi-file shapefile format."
   ]
  },
  {
   "cell_type": "code",
   "execution_count": null,
   "metadata": {},
   "outputs": [],
   "source": [
    "alameda_county.to_file(\"../data/outdata/alameda_county.json\", driver=\"GeoJSON\")"
   ]
  },
  {
   "cell_type": "code",
   "execution_count": null,
   "metadata": {},
   "outputs": [],
   "source": [
    "alameda_county.to_file(\"../data/outdata/alameda_county.gpkg\", driver=\"GPKG\")"
   ]
  },
  {
   "cell_type": "markdown",
   "metadata": {},
   "source": [
    "You can read these in, just as you would a shapefile with `gpd.read_file`:"
   ]
  },
  {
   "cell_type": "code",
   "execution_count": null,
   "metadata": {},
   "outputs": [],
   "source": [
    "alameda_county_test2 = gpd.read_file(\"../data/outdata/alameda_county.json\")\n",
    "alameda_county_test2.plot()"
   ]
  },
  {
   "cell_type": "code",
   "execution_count": null,
   "metadata": {},
   "outputs": [],
   "source": [
    "alameda_county_test = gpd.read_file(\"../data/outdata/alameda_county.gpkg\")\n",
    "alameda_county_test.plot()"
   ]
  },
  {
   "cell_type": "markdown",
   "metadata": {},
   "source": [
    "There are also many other formats we could use for data output.\n",
    "\n",
    "**NOTE**: If you're working with point data (i.e. a single latitude and longitude value per feature),\n",
    "then CSV might be a good option!"
   ]
  },
  {
   "cell_type": "markdown",
   "metadata": {},
   "source": [
    "## Overview\n",
    "\n",
    "In this lesson, we learned about:\n",
    "\n",
    "- The `geopandas` package\n",
    "- Reading in shapefiles\n",
    "    - `gpd.read_file`\n",
    "- GeoDataFrame structures\n",
    "    - `shape`, `head`, `columns`\n",
    "- Plotting GeoDataFrames\n",
    "    - `plot`\n",
    "- Subsetting GeoDatFrames\n",
    "    - `loc`\n",
    "- Saving out GeoDataFrames\n",
    "    - `to_file`"
   ]
  },
  {
   "cell_type": "markdown",
   "metadata": {},
   "source": [
    "---\n",
    "\n",
    "### Challenge 2: IO, Manipulation, and Mapping\n",
    "\n",
    "Now, you'll get a chance to practice the operations we learned above.\n",
    "\n",
    "In the following cell, compose code to:\n",
    "\n",
    "1. Read in the California places data (`../data/census/Places/cb_2018_06_place_500k.zip`).\n",
    "2. Subset \"Berkeley\" from the data.\n",
    "3. Plot, and customize as desired.\n",
    "4. Save out as a shapefile (`berkeley_places.shp`).\n",
    "\n",
    "*Note: pulling in a zipped shapefile has the same syntax as just pulling in a shapefile. The only difference is that insead of just putting in the filepath, you'll want to write `zip://../data/census/Places/cb_2018_06_place_500k.zip`*\n",
    "\n",
    "---"
   ]
  },
  {
   "cell_type": "code",
   "execution_count": null,
   "metadata": {},
   "outputs": [],
   "source": [
    "# YOUR CODE HERE\n"
   ]
  }
 ],
 "metadata": {
  "kernelspec": {
   "display_name": "Python 3 (ipykernel)",
   "language": "python",
   "name": "python3"
  },
  "language_info": {
   "codemirror_mode": {
    "name": "ipython",
    "version": 3
   },
   "file_extension": ".py",
   "mimetype": "text/x-python",
   "name": "python",
   "nbconvert_exporter": "python",
   "pygments_lexer": "ipython3",
   "version": "3.8.12"
  }
 },
 "nbformat": 4,
 "nbformat_minor": 4
}
